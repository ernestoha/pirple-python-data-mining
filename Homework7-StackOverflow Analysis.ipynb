{
 "cells": [
  {
   "cell_type": "markdown",
   "metadata": {},
   "source": [
    "# Apache Spark HomeWork7. StackOverflow Dataset."
   ]
  },
  {
   "cell_type": "code",
   "execution_count": 26,
   "metadata": {},
   "outputs": [],
   "source": [
    "#libs and pyspark init \n",
    "import pyspark.sql.functions as F\n",
    "import pyspark as ps\n",
    "from pyspark import SQLContext  \n",
    "\n",
    "spark = ps.sql.SparkSession.builder \\\n",
    "    .master('local[2]') \\\n",
    "    .appName('spark-ml') \\\n",
    "    .getOrCreate()\n",
    "\n",
    "sc = spark.sparkContext\n",
    "sqlContext = SQLContext(sc)"
   ]
  },
  {
   "cell_type": "code",
   "execution_count": 27,
   "metadata": {},
   "outputs": [],
   "source": [
    "csv_data = 'Data/survey_results_public2000.csv'"
   ]
  },
  {
   "cell_type": "code",
   "execution_count": 28,
   "metadata": {},
   "outputs": [],
   "source": [
    "sqlContext = SQLContext(sc) # crear var para ejecutar sentencias sql df = sqlContext.sql(\"SELECT * FROM table\")"
   ]
  },
  {
   "cell_type": "code",
   "execution_count": 30,
   "metadata": {
    "scrolled": true
   },
   "outputs": [
    {
     "name": "stdout",
     "output_type": "stream",
     "text": [
      "+----------+--------------------+--------+---+----------+--------+---------+-------------+------------------+--------------+--------------+----------------------+--------------------+--------------------+--------------------+--------------------+--------------------+------+--------------------+--------------------+--------------------+----------------------+--------------------+----------------------+------------------+----------------------------+------------------------+---------+------------------+--------------------+--------------------+------------------+-------------+-----------+--------------+-------------+--------------------+--------------------+-----------------+--------------------+--------------------+-----------+--------------------+----------------------+--------------------+--------------------+--------------------+---------+---------------+--------------------+--------------------+--------------------+--------------------+-----+--------------------+----------------------+--------------------+--------------------+-----------+---------+------------+\n",
      "|Respondent|          MainBranch|Hobbyist|Age|Age1stCode|CompFreq|CompTotal|ConvertedComp|           Country|  CurrencyDesc|CurrencySymbol|DatabaseDesireNextYear|  DatabaseWorkedWith|             DevType|             EdLevel|          Employment|           Ethnicity|Gender|          JobFactors|              JobSat|             JobSeek|LanguageDesireNextYear|  LanguageWorkedWith|MiscTechDesireNextYear|MiscTechWorkedWith|NEWCollabToolsDesireNextYear|NEWCollabToolsWorkedWith|NEWDevOps|     NEWDevOpsImpt|           NEWEdImpt|          NEWJobHunt|NEWJobHuntResearch|     NEWLearn|NEWOffTopic|NEWOnboardGood|NEWOtherComms|         NEWOvertime| NEWPurchaseResearch|    NEWPurpleLink|          NEWSOSites|            NEWStuck|      OpSys|             OrgSize|PlatformDesireNextYear|  PlatformWorkedWith|        PurchaseWhat|           Sexuality|SOAccount|         SOComm|          SOPartFreq|         SOVisitFreq|          SurveyEase|        SurveyLength|Trans|      UndergradMajor|WebframeDesireNextYear|  WebframeWorkedWith|       WelcomeChange|WorkWeekHrs|YearsCode|YearsCodePro|\n",
      "+----------+--------------------+--------+---+----------+--------+---------+-------------+------------------+--------------+--------------+----------------------+--------------------+--------------------+--------------------+--------------------+--------------------+------+--------------------+--------------------+--------------------+----------------------+--------------------+----------------------+------------------+----------------------------+------------------------+---------+------------------+--------------------+--------------------+------------------+-------------+-----------+--------------+-------------+--------------------+--------------------+-----------------+--------------------+--------------------+-----------+--------------------+----------------------+--------------------+--------------------+--------------------+---------+---------------+--------------------+--------------------+--------------------+--------------------+-----+--------------------+----------------------+--------------------+--------------------+-----------+---------+------------+\n",
      "|         1|I am a developer ...|     Yes| NA|        13| Monthly|       NA|           NA|           Germany| European Euro|           EUR|  Microsoft SQL Server|Elasticsearch;Mic...|Developer, deskto...|Master’s degree (...|Independent contr...|White or of Europ...|   Man|Languages, framew...|  Slightly satisfied|I am not interest...|  C#;HTML/CSS;JavaS...|C#;HTML/CSS;JavaS...|     .NET Core;Xamarin|    .NET;.NET Core|        Microsoft Teams;M...|    Confluence;Jira;S...|       No|Somewhat important|    Fairly important|                  NA|                NA|  Once a year|   Not sure|            NA|           No|Often: 1-2 days p...|Start a free tria...|           Amused|Stack Overflow (p...|Visit Stack Overf...|    Windows|    2 to 9 employees|  Android;iOS;Kuber...|             Windows|                  NA|Straight / Hetero...|       No| No, not at all|                  NA|Multiple times pe...|Neither easy nor ...|Appropriate in le...|   No|Computer science,...|          ASP.NET Core|ASP.NET;ASP.NET Core|Just as welcome n...|         50|       36|          27|\n",
      "|         2|I am a developer ...|      No| NA|        19|      NA|       NA|           NA|    United Kingdom|Pound sterling|           GBP|                    NA|                  NA|Developer, full-s...|Bachelor’s degree...|  Employed full-time|                  NA|    NA|                  NA|   Very dissatisfied|I am not interest...|          Python;Swift|    JavaScript;Swift|  React Native;Tens...|      React Native|                Github;Slack|    Confluence;Jira;G...|       NA|                NA|    Fairly important|                  NA|                NA|  Once a year|   Not sure|            NA|           No|                  NA|                  NA|           Amused|Stack Overflow (p...|Visit Stack Overf...|      MacOS|1,000 to 4,999 em...|  iOS;Kubernetes;Li...|                 iOS|I have little or ...|                  NA|      Yes|Yes, definitely|Less than once pe...|Multiple times pe...|                  NA|                  NA|   NA|Computer science,...|                    NA|                  NA|Somewhat more wel...|         NA|        7|           4|\n",
      "|         3|I code primarily ...|     Yes| NA|        15|      NA|       NA|           NA|Russian Federation|            NA|            NA|                    NA|                  NA|                  NA|                  NA|                  NA|                  NA|    NA|                  NA|                  NA|                  NA|  Objective-C;Pytho...|Objective-C;Pytho...|                    NA|                NA|                          NA|                      NA|       NA|                NA|                  NA|                  NA|                NA|Once a decade|         NA|            NA|           No|                  NA|                  NA|               NA|Stack Overflow (p...|                  NA|Linux-based|                  NA|                    NA|                  NA|                  NA|                  NA|      Yes|  Yes, somewhat|A few times per m...|Daily or almost d...|Neither easy nor ...|Appropriate in le...|   NA|                  NA|                    NA|                  NA|Somewhat more wel...|         NA|        4|          NA|\n",
      "|         4|I am a developer ...|     Yes| 25|        18|      NA|       NA|           NA|           Albania|  Albanian lek|           ALL|                    NA|                  NA|                  NA|Master’s degree (...|                  NA|White or of Europ...|   Man|Flex time or a fl...|Slightly dissatis...|I’m not actively ...|                    NA|                  NA|                    NA|                NA|                          NA|                      NA|       No|                NA|Not at all import...|Curious about oth...|                NA|  Once a year|   Not sure|           Yes|          Yes|Occasionally: 1-2...|                  NA|               NA|Stack Overflow (p...|                  NA|Linux-based|  20 to 99 employees|                    NA|                  NA|I have a great de...|Straight / Hetero...|      Yes|Yes, definitely|A few times per m...|Multiple times pe...|                  NA|                  NA|   No|Computer science,...|                    NA|                  NA|Somewhat less wel...|         40|        7|           4|\n",
      "|         5|I used to be a de...|     Yes| 31|        16|      NA|       NA|           NA|     United States|            NA|            NA|      MySQL;PostgreSQL|MySQL;PostgreSQL;...|                  NA|Bachelor’s degree...|  Employed full-time|White or of Europ...|   Man|                  NA|                  NA|                  NA|       Java;Ruby;Scala|   HTML/CSS;Ruby;SQL|          Ansible;Chef|           Ansible|        Github;Google Sui...|    Confluence;Jira;G...|       NA|                NA|      Very important|                  NA|                NA|  Once a year|         No|            NA|          Yes|                  NA|Start a free tria...|Hello, old friend|Stack Overflow (p...|Call a coworker o...|    Windows|                  NA|  Docker;Google Clo...|AWS;Docker;Linux;...|                  NA|Straight / Hetero...|      Yes|  Yes, somewhat|Less than once pe...|A few times per m...|                Easy|           Too short|   No|Computer science,...|  Django;Ruby on Rails|       Ruby on Rails|Just as welcome n...|         NA|       15|           8|\n",
      "+----------+--------------------+--------+---+----------+--------+---------+-------------+------------------+--------------+--------------+----------------------+--------------------+--------------------+--------------------+--------------------+--------------------+------+--------------------+--------------------+--------------------+----------------------+--------------------+----------------------+------------------+----------------------------+------------------------+---------+------------------+--------------------+--------------------+------------------+-------------+-----------+--------------+-------------+--------------------+--------------------+-----------------+--------------------+--------------------+-----------+--------------------+----------------------+--------------------+--------------------+--------------------+---------+---------------+--------------------+--------------------+--------------------+--------------------+-----+--------------------+----------------------+--------------------+--------------------+-----------+---------+------------+\n",
      "only showing top 5 rows\n",
      "\n"
     ]
    }
   ],
   "source": [
    "# read CSV Spark\n",
    "df_stack = sqlContext.read.csv(csv_data,\n",
    "                         header=True,       # use headers or not\n",
    "                         quote='\"',         # char for quotes\n",
    "                         sep=\",\",           # char for separation\n",
    "                         inferSchema=True)  # do we infer schema or not ?\n",
    "\n",
    "df_stack.show(5) #df.head(2)"
   ]
  },
  {
   "cell_type": "code",
   "execution_count": 20,
   "metadata": {},
   "outputs": [
    {
     "data": {
      "text/plain": [
       "['Respondent',\n",
       " 'MainBranch',\n",
       " 'Hobbyist',\n",
       " 'Age',\n",
       " 'Age1stCode',\n",
       " 'CompFreq',\n",
       " 'CompTotal',\n",
       " 'ConvertedComp',\n",
       " 'Country',\n",
       " 'CurrencyDesc',\n",
       " 'CurrencySymbol',\n",
       " 'DatabaseDesireNextYear',\n",
       " 'DatabaseWorkedWith',\n",
       " 'DevType',\n",
       " 'EdLevel',\n",
       " 'Employment',\n",
       " 'Ethnicity',\n",
       " 'Gender',\n",
       " 'JobFactors',\n",
       " 'JobSat',\n",
       " 'JobSeek',\n",
       " 'LanguageDesireNextYear',\n",
       " 'LanguageWorkedWith',\n",
       " 'MiscTechDesireNextYear',\n",
       " 'MiscTechWorkedWith',\n",
       " 'NEWCollabToolsDesireNextYear',\n",
       " 'NEWCollabToolsWorkedWith',\n",
       " 'NEWDevOps',\n",
       " 'NEWDevOpsImpt',\n",
       " 'NEWEdImpt',\n",
       " 'NEWJobHunt',\n",
       " 'NEWJobHuntResearch',\n",
       " 'NEWLearn',\n",
       " 'NEWOffTopic',\n",
       " 'NEWOnboardGood',\n",
       " 'NEWOtherComms',\n",
       " 'NEWOvertime',\n",
       " 'NEWPurchaseResearch',\n",
       " 'NEWPurpleLink',\n",
       " 'NEWSOSites',\n",
       " 'NEWStuck',\n",
       " 'OpSys',\n",
       " 'OrgSize',\n",
       " 'PlatformDesireNextYear',\n",
       " 'PlatformWorkedWith',\n",
       " 'PurchaseWhat',\n",
       " 'Sexuality',\n",
       " 'SOAccount',\n",
       " 'SOComm',\n",
       " 'SOPartFreq',\n",
       " 'SOVisitFreq',\n",
       " 'SurveyEase',\n",
       " 'SurveyLength',\n",
       " 'Trans',\n",
       " 'UndergradMajor',\n",
       " 'WebframeDesireNextYear',\n",
       " 'WebframeWorkedWith',\n",
       " 'WelcomeChange',\n",
       " 'WorkWeekHrs',\n",
       " 'YearsCode',\n",
       " 'YearsCodePro']"
      ]
     },
     "execution_count": 20,
     "metadata": {},
     "output_type": "execute_result"
    }
   ],
   "source": [
    "df_stack.columns"
   ]
  },
  {
   "cell_type": "code",
   "execution_count": 31,
   "metadata": {},
   "outputs": [],
   "source": [
    "# Register the DataFrame as a table.\n",
    "df_stack.createOrReplaceTempView(\"df_stack\")"
   ]
  },
  {
   "cell_type": "code",
   "execution_count": 32,
   "metadata": {
    "scrolled": false
   },
   "outputs": [
    {
     "name": "stdout",
     "output_type": "stream",
     "text": [
      "+-------------+---+--------------------+--------------------+\n",
      "|      Country|Age|              JobSat|          JobFactors|\n",
      "+-------------+---+--------------------+--------------------+\n",
      "|United States| 31|                  NA|                  NA|\n",
      "|United States| 36|Slightly dissatis...|Remote work optio...|\n",
      "|United States| 27|  Slightly satisfied|Industry that I’d...|\n",
      "|United States| 25|Slightly dissatis...|Industry that I’d...|\n",
      "|United States| 32|      Very satisfied|Languages, framew...|\n",
      "|United States| 24|Slightly dissatis...|Flex time or a fl...|\n",
      "|United States| NA|                  NA|                  NA|\n",
      "|United States| 16|                  NA|Flex time or a fl...|\n",
      "|United States| 20|                  NA|Industry that I’d...|\n",
      "|United States| NA|Slightly dissatis...|Remote work optio...|\n",
      "+-------------+---+--------------------+--------------------+\n",
      "only showing top 10 rows\n",
      "\n"
     ]
    }
   ],
   "source": [
    "fields = \"Country, Age, JobSat, JobFactors\"\n",
    "# data01 = sqlContext.sql(\"SELECT * FROM df_stack limit 30\")\n",
    "data01 = sqlContext.sql(\"SELECT \"+fields+\" FROM df_stack WHERE Country = 'United States' limit 30\")\n",
    "data01.show(10)"
   ]
  },
  {
   "cell_type": "markdown",
   "metadata": {},
   "source": [
    "## JOBSTAT"
   ]
  },
  {
   "cell_type": "code",
   "execution_count": 33,
   "metadata": {
    "scrolled": true
   },
   "outputs": [
    {
     "name": "stdout",
     "output_type": "stream",
     "text": [
      "+--------------------+-------------+\n",
      "|              JobSat|count(JobSat)|\n",
      "+--------------------+-------------+\n",
      "|      Very satisfied|          615|\n",
      "|  Slightly satisfied|          499|\n",
      "|                  NA|          359|\n",
      "|Slightly dissatis...|          242|\n",
      "|Neither satisfied...|          164|\n",
      "|   Very dissatisfied|          120|\n",
      "+--------------------+-------------+\n",
      "\n"
     ]
    }
   ],
   "source": [
    "#ALL COUNTRIES JOBSTAT\n",
    "sqlContext.sql(\"SELECT JobSat, COUNT(JobSat) FROM df_stack GROUP BY JobSat ORDER BY 2 DESC\").show()"
   ]
  },
  {
   "cell_type": "code",
   "execution_count": 34,
   "metadata": {},
   "outputs": [
    {
     "name": "stdout",
     "output_type": "stream",
     "text": [
      "+--------------------+-------------+\n",
      "|              JobSat|count(JobSat)|\n",
      "+--------------------+-------------+\n",
      "|      Very satisfied|          342|\n",
      "|  Slightly satisfied|          240|\n",
      "|                  NA|          138|\n",
      "|Slightly dissatis...|          102|\n",
      "|Neither satisfied...|           73|\n",
      "|   Very dissatisfied|           42|\n",
      "+--------------------+-------------+\n",
      "\n"
     ]
    }
   ],
   "source": [
    "#United States JOBSTAT\n",
    "sqlContext.sql(\"SELECT JobSat, COUNT(JobSat) FROM df_stack WHERE Country = 'United States' GROUP BY JobSat ORDER BY 2 DESC\").show()"
   ]
  },
  {
   "cell_type": "markdown",
   "metadata": {},
   "source": [
    "## JOBFACTORS"
   ]
  },
  {
   "cell_type": "code",
   "execution_count": 35,
   "metadata": {},
   "outputs": [
    {
     "name": "stdout",
     "output_type": "stream",
     "text": [
      "+--------------------+-----------------+\n",
      "|          JobFactors|count(JobFactors)|\n",
      "+--------------------+-----------------+\n",
      "|                  NA|              186|\n",
      "|Flex time or a fl...|              116|\n",
      "|Languages, framew...|              103|\n",
      "|Flex time or a fl...|               92|\n",
      "|Flex time or a fl...|               61|\n",
      "|Flex time or a fl...|               55|\n",
      "|Languages, framew...|               50|\n",
      "|Flex time or a fl...|               50|\n",
      "|Languages, framew...|               44|\n",
      "|Flex time or a fl...|               40|\n",
      "|Flex time or a fl...|               37|\n",
      "|Languages, framew...|               33|\n",
      "|How widely used o...|               32|\n",
      "|Flex time or a fl...|               28|\n",
      "|Languages, framew...|               28|\n",
      "|Languages, framew...|               26|\n",
      "|Languages, framew...|               26|\n",
      "|Remote work optio...|               25|\n",
      "|Industry that I’d...|               25|\n",
      "|Flex time or a fl...|               23|\n",
      "+--------------------+-----------------+\n",
      "only showing top 20 rows\n",
      "\n"
     ]
    }
   ],
   "source": [
    "#ALL COUNTRIES JobFactors\n",
    "sqlContext.sql(\"SELECT JobFactors, COUNT(JobFactors) FROM df_stack GROUP BY JobFactors ORDER BY 2 DESC\").show()"
   ]
  },
  {
   "cell_type": "code",
   "execution_count": 36,
   "metadata": {},
   "outputs": [
    {
     "name": "stdout",
     "output_type": "stream",
     "text": [
      "+--------------------+-----------------+\n",
      "|          JobFactors|count(JobFactors)|\n",
      "+--------------------+-----------------+\n",
      "|                  NA|               70|\n",
      "|Flex time or a fl...|               59|\n",
      "|Languages, framew...|               43|\n",
      "|Flex time or a fl...|               38|\n",
      "|Flex time or a fl...|               30|\n",
      "|Languages, framew...|               26|\n",
      "|Flex time or a fl...|               21|\n",
      "|Flex time or a fl...|               21|\n",
      "|Flex time or a fl...|               20|\n",
      "|Industry that I’d...|               16|\n",
      "|Flex time or a fl...|               15|\n",
      "|Languages, framew...|               15|\n",
      "|Languages, framew...|               15|\n",
      "|Languages, framew...|               15|\n",
      "|Remote work optio...|               14|\n",
      "|Flex time or a fl...|               13|\n",
      "|How widely used o...|               12|\n",
      "|Languages, framew...|               12|\n",
      "|Flex time or a fl...|               12|\n",
      "|Industry that I’d...|               12|\n",
      "+--------------------+-----------------+\n",
      "only showing top 20 rows\n",
      "\n"
     ]
    }
   ],
   "source": [
    "#United States JobFactors\n",
    "sqlContext.sql(\"SELECT JobFactors, COUNT(JobFactors) FROM df_stack WHERE Country = 'United States' GROUP BY JobFactors ORDER BY 2 DESC\").show()"
   ]
  },
  {
   "cell_type": "markdown",
   "metadata": {},
   "source": [
    "# Advice to newer/younger developers. #\n",
    "1. **When pursuing/evaluating career opportunities in the future, what factors should they weight heavily if overall happiness is their goal?**\n",
    " * ***I:*** To research opportunities where the job is stimulating and challenging.\n",
    " * ***R:*** Flex time or a flexible schedule;Languages, frameworks, and other technologies I’d be working with;Remote work options.\n",
    "2. **What factors should they weight heavily if high-salary is their goal?**\n",
    " * ***I:*** To achieve measurable results.\n",
    " * ***R:*** Languages, frameworks, and other technologies I’d be working with.\n",
    "3. **What kinds of opportunities/activities should they absolutely avoid?**\n",
    " * ***I:*** Negative culture where contributions are not appreciated.\n",
    " * ***R:*** No Office environment or company culture; No Opportunities for professional development.\n",
    "4. **Is there a specific location they should try to live in either case?**\n",
    " * ***I:*** Less than 30 minutes commute.\n",
    " * ***R:*** Remote work options.\n",
    "5. **What factors matter, and how should they prioritize those factors?**\n",
    " * ***I:*** Work-life balance and responsibilities.\n",
    " * ***R:*** Flex time or a flexible schedule; Remote work options.\n",
    "**LEGEND:**\n",
    " * ***I:***  My Advice.\n",
    " * ***R:*** Report Analysis."
   ]
  },
  {
   "cell_type": "code",
   "execution_count": 25,
   "metadata": {},
   "outputs": [
    {
     "data": {
      "text/plain": [
       "1"
      ]
     },
     "execution_count": 25,
     "metadata": {},
     "output_type": "execute_result"
    }
   ],
   "source": [
    "1"
   ]
  }
 ],
 "metadata": {
  "kernelspec": {
   "display_name": "Python 3",
   "language": "python",
   "name": "python3"
  },
  "language_info": {
   "codemirror_mode": {
    "name": "ipython",
    "version": 3
   },
   "file_extension": ".py",
   "mimetype": "text/x-python",
   "name": "python",
   "nbconvert_exporter": "python",
   "pygments_lexer": "ipython3",
   "version": "3.6.9"
  }
 },
 "nbformat": 4,
 "nbformat_minor": 4
}
