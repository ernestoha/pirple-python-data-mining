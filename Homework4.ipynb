{
 "cells": [
  {
   "cell_type": "markdown",
   "metadata": {},
   "source": [
    "# Framework *Apache Spark + Map + Flatmap*"
   ]
  },
  {
   "cell_type": "markdown",
   "metadata": {},
   "source": [
    "https://github.com/pirple/Data-Mining-With-Python/blob/master/Part%204/Section_3.1_3.2.ipynb"
   ]
  },
  {
   "cell_type": "code",
   "execution_count": 27,
   "metadata": {},
   "outputs": [],
   "source": [
    "#libs and pyspark init \n",
    "import pyspark.sql.functions as F\n",
    "import pyspark as ps\n",
    "from pyspark import SQLContext  \n",
    "\n",
    "spark = ps.sql.SparkSession.builder \\\n",
    "    .master('local[2]') \\\n",
    "    .appName('spark-ml') \\\n",
    "    .getOrCreate()\n",
    "\n",
    "sc = spark.sparkContext\n",
    "sqlContext = SQLContext(sc)"
   ]
  },
  {
   "cell_type": "code",
   "execution_count": 28,
   "metadata": {},
   "outputs": [],
   "source": [
    "nba_data = 'Data/nba_all_seasons.csv'"
   ]
  },
  {
   "cell_type": "code",
   "execution_count": 29,
   "metadata": {
    "scrolled": true
   },
   "outputs": [
    {
     "data": {
      "text/plain": [
       "0"
      ]
     },
     "execution_count": 29,
     "metadata": {},
     "output_type": "execute_result"
    }
   ],
   "source": [
    "# read CSV Map, for this homework is Ok.\n",
    "#     .filter(lambda x: (x.find(\"1996-97\") == -1))#\\ ###testing\n",
    "\n",
    "def is_CHIseason96to99(data):\n",
    "#     if (data.season == \"1997-96\"):\n",
    "    data = str(data)\n",
    "#     if ((\"1996-97\", \"1997-9\") in data):\n",
    "#     if (\"1996-97\" in data[100:-1]):\n",
    "    if (\"CHI|\" in data):\n",
    "        if (\"1996-97|\" in data):\n",
    "            return True\n",
    "        else:\n",
    "            if (\"1997-98|\" in data):\n",
    "                return True\n",
    "            else:\n",
    "                if (\"1998-99\" in data):\n",
    "                    return True\n",
    "                else:\n",
    "                    return False\n",
    "    else:\n",
    "        return False\n",
    "\n",
    "df_map = sc.textFile(nba_data)\\\n",
    "    .map(lambda x: x.split())\\\n",
    "    .take(2)\n",
    "\n",
    "#     .filter(lambda x: \"1996-97\" in x)\\ ###testing\n",
    "df_map_count = sc.textFile(nba_data)\\\n",
    "    .map(lambda x: x.split())\\\n",
    "    .filter(is_CHIseason96to99)\\\n",
    "    .count()\n",
    "\n",
    "# type(df_map) #df.head(2)\n",
    "df_map[0], df_map[1], df_map[0], df_map_count\n",
    "df_map_count\n",
    "# print(df_map)\n",
    "\n"
   ]
  },
  {
   "cell_type": "code",
   "execution_count": 30,
   "metadata": {
    "scrolled": true
   },
   "outputs": [
    {
     "name": "stdout",
     "output_type": "stream",
     "text": [
      "+---+-----------------+-----------------+----+-------------+-------------+--------------------+-------+----------+-----------+------------+---+---+----+---+----------+-------------------+-------------------+-------------------+-------------------+-------------------+-------+\n",
      "|_c0|      player_name|team_abbreviation| age|player_height|player_weight|             college|country|draft_year|draft_round|draft_number| gp|pts| reb|ast|net_rating|           oreb_pct|           dreb_pct|            usg_pct|             ts_pct|            ast_pct| season|\n",
      "+---+-----------------+-----------------+----+-------------+-------------+--------------------+-------+----------+-----------+------------+---+---+----+---+----------+-------------------+-------------------+-------------------+-------------------+-------------------+-------+\n",
      "|  0|    Dennis Rodman|              CHI|36.0|       198.12|     99.79024|Southeastern Okla...|    USA|      1986|          2|          27| 55|5.7|16.1|3.1|      16.1|0.18600000000000003|0.32299999999999995|                0.1|              0.479|              0.113|1996-97|\n",
      "|  1|Dwayne Schintzius|              LAC|28.0|        215.9|    117.93392|             Florida|    USA|      1990|          1|          24| 15|2.3| 1.5|0.3|      12.3|              0.078|              0.151|              0.175|               0.43|              0.048|1996-97|\n",
      "|  2|     Earl Cureton|              TOR|39.0|       205.74|     95.25432|       Detroit Mercy|    USA|      1979|          3|          58|  9|0.8| 1.0|0.4|      -2.1|              0.105|              0.102|0.10300000000000001|              0.376|0.14800000000000002|1996-97|\n",
      "|  3|      Ed O'Bannon|              DAL|24.0|        203.2|   100.697424|                UCLA|    USA|      1995|          1|           9| 64|3.7| 2.3|0.6|      -8.7|               0.06|              0.149|0.16699999999999998|0.39899999999999997|              0.077|1996-97|\n",
      "|  4|      Ed Pinckney|              MIA|34.0|       205.74|    108.86208|           Villanova|    USA|      1985|          1|          10| 27|2.4| 2.4|0.2|     -11.2|              0.109|              0.179|              0.127|              0.611|               0.04|1996-97|\n",
      "+---+-----------------+-----------------+----+-------------+-------------+--------------------+-------+----------+-----------+------------+---+---+----+---+----------+-------------------+-------------------+-------------------+-------------------+-------------------+-------+\n",
      "only showing top 5 rows\n",
      "\n"
     ]
    }
   ],
   "source": [
    "# read CSV Spark\n",
    "df_aapl = sqlContext.read.csv(nba_data,\n",
    "                         header=True,       # use headers or not\n",
    "                         quote='\"',         # char for quotes\n",
    "                         sep=\",\",           # char for separation\n",
    "                         inferSchema=True)  # do we infer schema or not ?\n",
    "\n",
    "df_aapl.show(5) #df.head(2)"
   ]
  },
  {
   "cell_type": "code",
   "execution_count": 31,
   "metadata": {
    "scrolled": false
   },
   "outputs": [
    {
     "data": {
      "text/plain": [
       "StructType(List(StructField(_c0,IntegerType,true),StructField(player_name,StringType,true),StructField(team_abbreviation,StringType,true),StructField(age,DoubleType,true),StructField(player_height,DoubleType,true),StructField(player_weight,DoubleType,true),StructField(college,StringType,true),StructField(country,StringType,true),StructField(draft_year,StringType,true),StructField(draft_round,StringType,true),StructField(draft_number,StringType,true),StructField(gp,IntegerType,true),StructField(pts,DoubleType,true),StructField(reb,DoubleType,true),StructField(ast,DoubleType,true),StructField(net_rating,DoubleType,true),StructField(oreb_pct,DoubleType,true),StructField(dreb_pct,DoubleType,true),StructField(usg_pct,DoubleType,true),StructField(ts_pct,DoubleType,true),StructField(ast_pct,DoubleType,true),StructField(season,StringType,true)))"
      ]
     },
     "execution_count": 31,
     "metadata": {},
     "output_type": "execute_result"
    }
   ],
   "source": [
    "df_aapl.schema #df.info()"
   ]
  },
  {
   "cell_type": "code",
   "execution_count": 32,
   "metadata": {},
   "outputs": [
    {
     "data": {
      "text/plain": [
       "45"
      ]
     },
     "execution_count": 32,
     "metadata": {},
     "output_type": "execute_result"
    }
   ],
   "source": [
    "#(Where) Filter from Chicago Bulls \"1996-97\", \"1997-98\", \"1998-99\" seasson.\n",
    "df_aapl = df_aapl.filter(\"team_abbreviation == 'CHI' AND season IN ('1996-97', '1997-98', '1998-99')\")\n",
    "# df_aapl.show(5)\n",
    "df_aapl.count()"
   ]
  },
  {
   "cell_type": "code",
   "execution_count": 33,
   "metadata": {
    "scrolled": false
   },
   "outputs": [
    {
     "name": "stdout",
     "output_type": "stream",
     "text": [
      "+---+---------------+-----------------+----+-------------+------------------+--------------------+-------+----------+-----------+------------+---+----+----+---+----------+--------------------+-------------------+-------------------+-------------------+-------------------+-------+\n",
      "|_c0|    player_name|team_abbreviation| age|player_height|     player_weight|             college|country|draft_year|draft_round|draft_number| gp| pts| reb|ast|net_rating|            oreb_pct|           dreb_pct|            usg_pct|             ts_pct|            ast_pct| season|\n",
      "+---+---------------+-----------------+----+-------------+------------------+--------------------+-------+----------+-----------+------------+---+----+----+---+----------+--------------------+-------------------+-------------------+-------------------+-------------------+-------+\n",
      "|  0|  Dennis Rodman|              CHI|36.0|       198.12|          99.79024|Southeastern Okla...|    USA|      1986|          2|          27| 55| 5.7|16.1|3.1|      16.1| 0.18600000000000003|0.32299999999999995|                0.1|              0.479|              0.113|1996-97|\n",
      "| 40|Dickey Simpkins|              CHI|25.0|       205.74|        112.490816|          Providence|    USA|      1994|          1|          21| 48| 1.9| 1.9|0.6|      -0.9|               0.099|              0.151|              0.163|0.41100000000000003|0.11199999999999999|1996-97|\n",
      "| 71|   Jason Caffey|              CHI|24.0|        203.2|        116.119552|             Alabama|    USA|      1995|          1|          20| 75| 7.3| 4.0|1.2|       9.0|               0.114|              0.134|              0.184|              0.574|              0.094|1996-97|\n",
      "|117|Bill Wennington|              CHI|34.0|       213.36|         111.13004|     St. John's (NY)|    USA|      1985|          1|          16| 61| 4.6| 2.1|0.7|       7.7|               0.068|0.11900000000000001|              0.168| 0.5379999999999999|              0.079|1996-97|\n",
      "|120|     Bison Dele|              CHI|28.0|       210.82|         117.93392|             Arizona|    USA|      1991|          1|          10|  9| 7.0| 3.7|1.3|       0.9| 0.11800000000000001|              0.154|0.27699999999999997|0.45299999999999996|               0.14|1996-97|\n",
      "|234| Scottie Pippen|              CHI|31.0|       200.66|        103.418976|    Central Arkansas|    USA|      1987|          1|           5| 82|20.2| 6.5|5.7|      13.5|0.059000000000000004|              0.133|              0.245| 0.5539999999999999|              0.237|1996-97|\n",
      "|249|     Ron Harper|              CHI|33.0|       198.12|         97.975872|          Miami (OH)|    USA|      1986|          1|           8| 76| 6.3| 2.5|2.5|      14.0|                0.03|              0.091|              0.127| 0.5429999999999999|              0.152|1996-97|\n",
      "|251|    Randy Brown|              CHI|29.0|       187.96|          86.18248|    New Mexico State|    USA|      1991|          2|          31| 72| 4.7| 1.5|1.8|      10.4|0.037000000000000005|              0.079|0.17800000000000002|              0.461|0.17800000000000002|1996-97|\n",
      "|270|  Robert Parish|              CHI|43.0|        215.9|        110.676448|      Centenary (LA)|    USA|      1976|          1|           8| 43| 3.7| 2.1|0.5|      14.9|               0.114|               0.13|              0.201|              0.514|0.08199999999999999|1996-97|\n",
      "|309|     Steve Kerr|              CHI|31.0|        190.5|          81.64656|             Arizona|    USA|      1988|          2|          50| 82| 8.1| 1.6|2.1|      10.1|0.018000000000000002|              0.062|               0.13|              0.667|               0.14|1996-97|\n",
      "|329|     Toni Kukoc|              CHI|28.0|       210.82|105.23334399999999|                None|Croatia|      1990|          2|          29| 57|13.2| 4.6|4.5|      15.2|               0.069|               0.12|              0.214| 0.5529999999999999|0.23199999999999998|1996-97|\n",
      "|379|   Jud Buechler|              CHI|29.0|       198.12|        103.418976|             Arizona|    USA|      1990|          2|          38| 76| 1.8| 1.7|0.8|       5.4|                0.07|              0.121|               0.12|              0.423|              0.121|1996-97|\n",
      "|392| Michael Jordan|              CHI|34.0|       198.12|         97.975872|      North Carolina|    USA|      1984|          1|           3| 82|29.6| 5.9|4.3|      13.4|               0.042|              0.132|              0.331| 0.5670000000000001|0.20800000000000002|1996-97|\n",
      "|417| Matt Steigenga|              CHI|27.0|       200.66|          102.0582|      Michigan State|    USA|      1992|          2|          52|  2| 1.5| 1.5|1.0|     -19.8|                 0.0|0.16699999999999998|              0.341|              0.307|0.33299999999999996|1996-97|\n",
      "|419|    Luc Longley|              CHI|28.0|       218.44|        132.448864|          New Mexico|    USA|      1991|          1|           7| 59| 9.1| 5.6|2.4|      10.4|               0.095|              0.159|0.19699999999999998|              0.499|              0.141|1996-97|\n",
      "|463|    Randy Brown|              CHI|30.0|       187.96|         86.636072|    New Mexico State|    USA|      1991|          2|          31| 71| 4.1| 1.3|2.1|       3.0|               0.033|              0.061|              0.157|              0.428|              0.207|1997-98|\n",
      "|467| Michael Jordan|              CHI|35.0|       198.12|         97.975872|      North Carolina|    USA|      1984|          1|           3| 82|28.7| 5.8|3.5|       8.5|               0.047|              0.125|              0.336| 0.5329999999999999|              0.174|1997-98|\n",
      "|468|    Luc Longley|              CHI|29.0|       218.44|        132.448864|          New Mexico|    USA|      1991|          1|           7| 58|11.4| 5.9|2.8|       7.5|               0.075|              0.151|              0.212|0.49200000000000005|              0.151|1997-98|\n",
      "|500|   Jud Buechler|              CHI|30.0|       198.12|        103.418976|             Arizona|    USA|      1990|          2|          38| 74| 2.7| 1.0|0.7|      -0.9|               0.043|              0.102|              0.142| 0.5539999999999999|              0.134|1997-98|\n",
      "|512|     Joe Kleine|              CHI|36.0|       210.82|115.66596000000001|            Arkansas|    USA|      1985|          1|           6| 46| 2.0| 1.7|0.7|      -4.0|               0.076|0.14300000000000002|              0.162|              0.408|0.12300000000000001|1997-98|\n",
      "+---+---------------+-----------------+----+-------------+------------------+--------------------+-------+----------+-----------+------------+---+----+----+---+----------+--------------------+-------------------+-------------------+-------------------+-------------------+-------+\n",
      "only showing top 20 rows\n",
      "\n"
     ]
    },
    {
     "data": {
      "text/plain": [
       "(45, None)"
      ]
     },
     "execution_count": 33,
     "metadata": {},
     "output_type": "execute_result"
    }
   ],
   "source": [
    "# df_out = df_aapl.select('Species', 'SepalWidthCm').groupBy(\"Species\").orderBy('Species', ascending=False).show(5)\n",
    "# df_count = df_aapl.groupBy(\"Species\").count().orderBy('Species', ascending=True)\n",
    "# df_count.show(5)\n",
    "df_aapl.count(), df_aapl.show()"
   ]
  },
  {
   "cell_type": "markdown",
   "metadata": {},
   "source": [
    "https://spark.apache.org/docs/latest/api/python/pyspark.sql.html?highlight=agg#pyspark.sql.GroupedData"
   ]
  },
  {
   "cell_type": "markdown",
   "metadata": {},
   "source": [
    "## Define a d_names (player_name distinct) and create data frames with pts, reb, ast to join"
   ]
  },
  {
   "cell_type": "code",
   "execution_count": 34,
   "metadata": {},
   "outputs": [],
   "source": [
    "mainId = \"player_name\"\n",
    "# d_names = df_aapl.groupBy(\"player_name\").count().orderBy('player_name', ascending=True)\n",
    "# d_names = df_aapl.groupBy(\"season\", \"player_name\").count().orderBy('season', 'player_name', ascending=True)\n",
    "d_names = df_aapl.groupBy(mainId) #.agg(sum(\"pts\") # ().orderBy('season', 'player_name', ascending=True)\n",
    "# d_names.show(5)\n",
    "# sorted(d_names.agg({\"pts\": \"count\", \"pts\": \"count\"}).collect())\n",
    "# d_names.agg({\"pts\": \"count\", \"pts\": \"avg\"}).show()\n",
    "d_n = d_names.agg({\"pts\": \"avg\"})\n",
    "\n",
    "d_pts = d_names.agg(F.avg('pts').alias('pts_avg'))\n",
    "d_reb = d_names.agg({\"reb\": \"avg\"})\n",
    "d_ast = d_names.agg({\"ast\": \"avg\"})"
   ]
  },
  {
   "cell_type": "code",
   "execution_count": 35,
   "metadata": {
    "scrolled": true
   },
   "outputs": [],
   "source": [
    "#join dataframes\n",
    "d_all = d_pts.join(d_reb, mainId)\n",
    "d_all = d_all.join(d_ast, mainId)"
   ]
  },
  {
   "cell_type": "code",
   "execution_count": 36,
   "metadata": {},
   "outputs": [
    {
     "name": "stdout",
     "output_type": "stream",
     "text": [
      "+----------------+------------------+------------------+------------------+\n",
      "|     player_name|           pts_avg|          avg(reb)|          avg(ast)|\n",
      "+----------------+------------------+------------------+------------------+\n",
      "|     Andrew Lang|               3.8|               4.4|               0.6|\n",
      "| Bill Wennington|3.9666666666666663|1.9666666666666668|0.5333333333333333|\n",
      "|      Bison Dele|               7.0|               3.7|               1.3|\n",
      "|     Brent Barry|              11.1|               3.9|               3.1|\n",
      "|Charles R. Jones|               3.7|               1.4|               1.4|\n",
      "|  Corey Benjamin|               3.9|               1.3|               0.3|\n",
      "|       Cory Carr|               4.1|               1.2|               1.6|\n",
      "|   Dennis Rodman|               5.2|             15.55|               3.0|\n",
      "| Dickey Simpkins| 4.766666666666667| 3.533333333333333|               0.9|\n",
      "|    Jason Caffey|               7.3|               4.0|               1.2|\n",
      "|      Joe Kleine|               2.0|               1.7|               0.7|\n",
      "|    Jud Buechler|              2.25|              1.35|              0.75|\n",
      "|     Keith Booth|               2.4|1.5499999999999998|               0.6|\n",
      "|    Kornel David|               6.2|               3.5|               0.8|\n",
      "|     Luc Longley|             10.25|              5.75|2.5999999999999996|\n",
      "|   Mario Bennett|               2.3|               1.7|               0.0|\n",
      "|     Mark Bryant|               9.0|               5.2|               1.1|\n",
      "|  Matt Steigenga|               1.5|               1.5|               1.0|\n",
      "|  Michael Jordan|             29.15|              5.85|               3.9|\n",
      "|     Randy Brown| 5.866666666666667|2.0666666666666664| 2.566666666666667|\n",
      "+----------------+------------------+------------------+------------------+\n",
      "only showing top 20 rows\n",
      "\n"
     ]
    }
   ],
   "source": [
    "d_all = d_all.orderBy(mainId, ascending=True)\n",
    "# type(d_new)\n",
    "d_all.show()"
   ]
  },
  {
   "cell_type": "markdown",
   "metadata": {},
   "source": [
    "## Ploting"
   ]
  },
  {
   "cell_type": "code",
   "execution_count": 37,
   "metadata": {},
   "outputs": [],
   "source": [
    "#Libs\n",
    "# import pandas as pd\n",
    "import seaborn as sns\n",
    "# import matplotlib.pyplot as plt"
   ]
  },
  {
   "cell_type": "code",
   "execution_count": 58,
   "metadata": {
    "scrolled": true
   },
   "outputs": [
    {
     "data": {
      "text/plain": [
       "<AxesSubplot:>"
      ]
     },
     "execution_count": 58,
     "metadata": {},
     "output_type": "execute_result"
    },
    {
     "data": {
      "image/png": "[encoded data removed]",
      "text/plain": [
       "<Figure size 432x288 with 1 Axes>"
      ]
     },
     "metadata": {},
     "output_type": "display_data"
    }
   ],
   "source": [
    "# sns.boxplot(data = d_all)\n",
    "sns.boxplot(data = d_all.toPandas())\n",
    "# sns.boxplot(data = df_aapl.toPandas())"
   ]
  },
  {
   "cell_type": "code",
   "execution_count": 74,
   "metadata": {
    "scrolled": false
   },
   "outputs": [
    {
     "data": {
      "text/plain": [
       "[Text(0, 0, 'Scott Burrell'),\n",
       " Text(1, 0, 'Robert Parish'),\n",
       " Text(2, 0, 'Steve Kerr'),\n",
       " Text(3, 0, 'Dickey Simpkins'),\n",
       " Text(4, 0, 'Randy Brown'),\n",
       " Text(5, 0, 'Corey Benjamin'),\n",
       " Text(6, 0, 'Matt Steigenga'),\n",
       " Text(7, 0, 'Kornel David'),\n",
       " Text(8, 0, 'Toni Kukoc'),\n",
       " Text(9, 0, 'Andrew Lang'),\n",
       " Text(10, 0, 'Bison Dele'),\n",
       " Text(11, 0, 'Keith Booth'),\n",
       " Text(12, 0, 'Mark Bryant'),\n",
       " Text(13, 0, 'Dennis Rodman'),\n",
       " Text(14, 0, 'Charles R. Jones'),\n",
       " Text(15, 0, 'Rusty LaRue'),\n",
       " Text(16, 0, 'Bill Wennington'),\n",
       " Text(17, 0, 'Scottie Pippen'),\n",
       " Text(18, 0, 'Joe Kleine'),\n",
       " Text(19, 0, 'Michael Jordan'),\n",
       " Text(20, 0, 'Cory Carr'),\n",
       " Text(21, 0, 'Jud Buechler'),\n",
       " Text(22, 0, 'Brent Barry'),\n",
       " Text(23, 0, 'Jason Caffey'),\n",
       " Text(24, 0, 'Ron Harper'),\n",
       " Text(25, 0, 'Luc Longley'),\n",
       " Text(26, 0, 'Mario Bennett')]"
      ]
     },
     "execution_count": 74,
     "metadata": {},
     "output_type": "execute_result"
    },
    {
     "data": {
      "image/png": "[encoded data removed]",
      "text/plain": [
       "<Figure size 432x288 with 1 Axes>"
      ]
     },
     "metadata": {},
     "output_type": "display_data"
    }
   ],
   "source": [
    "# sns.set_theme(style=\"whitegrid\")\n",
    "plot1 = sns.boxplot(x=\"player_name\", y=\"pts_avg\", data = d_pts.toPandas())\n",
    "# plot1.set_xticklabels(rotation=45)\n",
    "plot1.set_xticklabels(d_pts.toPandas()[\"player_name\"], rotation=90)\n",
    "# sns.boxplot(data = [1,2,3,4])"
   ]
  },
  {
   "cell_type": "markdown",
   "metadata": {},
   "source": [
    "## Xtra - Testing udf functions"
   ]
  },
  {
   "cell_type": "code",
   "execution_count": null,
   "metadata": {
    "scrolled": true
   },
   "outputs": [],
   "source": [
    "def test(name):\n",
    "        return \"Erni\"+name"
   ]
  },
  {
   "cell_type": "code",
   "execution_count": null,
   "metadata": {},
   "outputs": [],
   "source": [
    "# from pyspark.sql.functions import rand\n",
    "# d_n = d_n.withColumn(\"m\", rand())\n",
    "from pyspark.sql.functions import udf\n",
    "from pyspark.sql.types import StringType\n",
    "udfTest = udf(test, StringType())\n",
    "d_n = d_n.withColumn(\"m\", udfTest(\"player_name\"))\n",
    "d_n.show(1)"
   ]
  },
  {
   "cell_type": "code",
   "execution_count": null,
   "metadata": {
    "scrolled": true
   },
   "outputs": [],
   "source": [
    "#doing https://stackoverflow.com/questions/35322764/apache-spark-assign-the-result-of-udf-to-multiple-dataframe-columns\n",
    "df = sc.parallelize([(1, 2.0), (2, 3.0)]).toDF([\"x\", \"y\"])\n",
    "df.show()"
   ]
  },
  {
   "cell_type": "code",
   "execution_count": null,
   "metadata": {
    "scrolled": true
   },
   "outputs": [],
   "source": [
    "d_names.show(5)"
   ]
  },
  {
   "cell_type": "code",
   "execution_count": null,
   "metadata": {},
   "outputs": [],
   "source": [
    "dfAverage = df_aapl.join(d_names, Seq(\"seasson\", \"player_name\")).groupBy(d_names(\"season\", \"player_name\")).agg(avg(df_aapl(\"pts\")).as(\"average\")).select(\"season\", \"player_name\", \"average\")"
   ]
  },
  {
   "cell_type": "code",
   "execution_count": null,
   "metadata": {},
   "outputs": [],
   "source": [
    "from pyspark.ml.feature import MinMaxScaler, VectorAssembler\n",
    "\n",
    "# assemble values in a vector\n",
    "vectorAssembler = VectorAssembler(inputCols=[\"count\"], outputCol=\"Eh\")\n",
    "\n",
    "\n",
    "df_vector = vectorAssembler.transform(df_count)\n",
    "df_vector = df_count.transform(df_count)\n",
    "df_count.show(5)\n",
    "\n",
    "df_vector.show(5)"
   ]
  },
  {
   "cell_type": "markdown",
   "metadata": {},
   "source": [
    "## From: https://sparkbyexamples.com/pyspark/pyspark-groupby-explained-with-example/"
   ]
  },
  {
   "cell_type": "code",
   "execution_count": null,
   "metadata": {},
   "outputs": [],
   "source": [
    "simpleData = [(\"James\",\"Sales\",\"NY\",90000,34,10000),\n",
    "    (\"Michael\",\"Sales\",\"NY\",86000,56,20000),\n",
    "    (\"Robert\",\"Sales\",\"CA\",81000,30,23000),\n",
    "    (\"Maria\",\"Finance\",\"CA\",90000,24,23000),\n",
    "    (\"Raman\",\"Finance\",\"CA\",99000,40,24000),\n",
    "    (\"Scott\",\"Finance\",\"NY\",83000,36,19000),\n",
    "    (\"Jen\",\"Finance\",\"NY\",79000,53,15000),\n",
    "    (\"Jeff\",\"Marketing\",\"CA\",80000,25,18000),\n",
    "    (\"Kumar\",\"Marketing\",\"NY\",91000,50,21000)\n",
    "  ]\n",
    "\n",
    "schema = [\"employee_name\",\"department\",\"state\",\"salary\",\"age\",\"bonus\"]\n",
    "df = spark.createDataFrame(data=simpleData, schema = schema)\n",
    "df.printSchema()\n",
    "df.show(truncate=False)"
   ]
  },
  {
   "cell_type": "code",
   "execution_count": null,
   "metadata": {},
   "outputs": [],
   "source": [
    "# simpleData = df_count.show()\n",
    "\n",
    "# schema = [\"Species\",\"count\",\"state\",\"salary\",\"age\",\"bonus\"]\n",
    "# df = spark.createDataFrame(data=simpleData, schema = schema)\n",
    "# df.printSchema()\n",
    "df.show(truncate=False)"
   ]
  }
 ],
 "metadata": {
  "kernelspec": {
   "display_name": "Python 3",
   "language": "python",
   "name": "python3"
  },
  "language_info": {
   "codemirror_mode": {
    "name": "ipython",
    "version": 3
   },
   "file_extension": ".py",
   "mimetype": "text/x-python",
   "name": "python",
   "nbconvert_exporter": "python",
   "pygments_lexer": "ipython3",
   "version": "3.6.9"
  }
 },
 "nbformat": 4,
 "nbformat_minor": 4
}
