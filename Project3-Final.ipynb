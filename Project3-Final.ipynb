{
 "cells": [
  {
   "cell_type": "markdown",
   "metadata": {},
   "source": [
    "# Project #3 - Final: *Thinking About Fake News* from Project 2"
   ]
  },
  {
   "cell_type": "markdown",
   "metadata": {},
   "source": [
    "## https://github.com/pirple/Data-Mining-With-Python/blob/master/Part%206/Section-5%20.ipynb"
   ]
  },
  {
   "cell_type": "code",
   "execution_count": 1,
   "metadata": {},
   "outputs": [],
   "source": [
    "#libs and pyspark init \n",
    "import pyspark.sql.functions as F\n",
    "import pyspark as ps\n",
    "from pyspark import SQLContext  \n",
    "\n",
    "spark = ps.sql.SparkSession.builder \\\n",
    "    .master('local[2]') \\\n",
    "    .appName('spark-ml') \\\n",
    "    .getOrCreate()\n",
    "\n",
    "sc = spark.sparkContext\n",
    "sqlContext = SQLContext(sc)"
   ]
  },
  {
   "cell_type": "code",
   "execution_count": 2,
   "metadata": {},
   "outputs": [],
   "source": [
    "true_data = 'Data/True1000.csv'\n",
    "fake_data = 'Data/Fake1000.csv'"
   ]
  },
  {
   "cell_type": "code",
   "execution_count": 3,
   "metadata": {
    "scrolled": true
   },
   "outputs": [
    {
     "name": "stdout",
     "output_type": "stream",
     "text": [
      "+--------------------+--------------------+------------+------------------+\n",
      "|               title|                text|     subject|              date|\n",
      "+--------------------+--------------------+------------+------------------+\n",
      "|As U.S. budget fi...|WASHINGTON (Reute...|politicsNews|December 31, 2017 |\n",
      "|U.S. military to ...|WASHINGTON (Reute...|politicsNews|December 29, 2017 |\n",
      "|Senior U.S. Repub...|WASHINGTON (Reute...|politicsNews|December 31, 2017 |\n",
      "|FBI Russia probe ...|WASHINGTON (Reute...|politicsNews|December 30, 2017 |\n",
      "|Trump wants Posta...|SEATTLE/WASHINGTO...|politicsNews|December 29, 2017 |\n",
      "+--------------------+--------------------+------------+------------------+\n",
      "only showing top 5 rows\n",
      "\n",
      "+--------------------+--------------------+-------+-----------------+\n",
      "|               title|                text|subject|             date|\n",
      "+--------------------+--------------------+-------+-----------------+\n",
      "| Donald Trump Sen...|Donald Trump just...|   News|December 31, 2017|\n",
      "| Drunk Bragging T...|House Intelligenc...|   News|December 31, 2017|\n",
      "| Sheriff David Cl...|On Friday, it was...|   News|December 30, 2017|\n",
      "| Trump Is So Obse...|On Christmas day,...|   News|December 29, 2017|\n",
      "| Pope Francis Jus...|Pope Francis used...|   News|December 25, 2017|\n",
      "+--------------------+--------------------+-------+-----------------+\n",
      "only showing top 5 rows\n",
      "\n"
     ]
    },
    {
     "data": {
      "text/plain": [
       "(None, None)"
      ]
     },
     "execution_count": 3,
     "metadata": {},
     "output_type": "execute_result"
    }
   ],
   "source": [
    "# read CSV Spark\n",
    "df_true = sqlContext.read.csv(true_data,\n",
    "                         header=True,       # use headers or not\n",
    "                         quote='\"',         # char for quotes\n",
    "                         sep=\",\",           # char for separation\n",
    "                         inferSchema=True)  # do we infer schema or not ?\n",
    "\n",
    "df_fake = sqlContext.read.csv(fake_data,\n",
    "                         header=True,       # use headers or not\n",
    "                         quote='\"',         # char for quotes\n",
    "                         sep=\",\",           # char for separation\n",
    "                         inferSchema=True)  # do we infer schema or not ?\n",
    "\n",
    "df_true.show(5), df_fake.show(5), #df.head(2)"
   ]
  },
  {
   "cell_type": "code",
   "execution_count": 14,
   "metadata": {
    "scrolled": false
   },
   "outputs": [
    {
     "data": {
      "text/plain": [
       "(StructType(List(StructField(title,StringType,true),StructField(text,StringType,true),StructField(subject,StringType,true),StructField(date,StringType,true))),\n",
       " StructType(List(StructField(title,StringType,true),StructField(text,StringType,true),StructField(subject,StringType,true),StructField(date,StringType,true))),\n",
       " [('title', 'string'),\n",
       "  ('text', 'string'),\n",
       "  ('subject', 'string'),\n",
       "  ('date', 'string')])"
      ]
     },
     "execution_count": 14,
     "metadata": {},
     "output_type": "execute_result"
    }
   ],
   "source": [
    "df_true.schema, df_fake.schema, df_true.dtypes #df.info()"
   ]
  },
  {
   "cell_type": "markdown",
   "metadata": {},
   "source": [
    "## I would create a Dictionary with all the words than apply to the category Fake, and for each news compare all the words, if it does not match Dictionary then belongs to the category Real, else is Fake."
   ]
  },
  {
   "cell_type": "markdown",
   "metadata": {},
   "source": [
    "# INIT python consumes API"
   ]
  },
  {
   "cell_type": "code",
   "execution_count": 42,
   "metadata": {},
   "outputs": [],
   "source": [
    "import pprint\n",
    "import requests     # 2.19.1\n",
    "secret = 'yourAPIKEY' #API KEY\n",
    "# Define the endpoint\n",
    "url = 'https://newsapi.org/v2/everything?'\n",
    "def getNewsApiData(phrase='big data'):\n",
    "    # Specify the query and number of returns\n",
    "    parameters = {\n",
    "        'q': phrase, # query phrase\n",
    "        'pageSize': 20,  # maximum is 100\n",
    "        'apiKey': secret # your own API key\n",
    "    }\n",
    "    # Make the request\n",
    "    response = requests.get(url, params=parameters)\n",
    "\n",
    "    # Convert the response to JSON format and pretty print it\n",
    "#     response_json = response.json()\n",
    "#     pprint.pprint(response_json)\n",
    "    return response.json()"
   ]
  },
  {
   "cell_type": "code",
   "execution_count": 45,
   "metadata": {
    "scrolled": false
   },
   "outputs": [
    {
     "name": "stdout",
     "output_type": "stream",
     "text": [
      "{'articles': [{'author': 'Brendan Hesse',\n",
      "               'content': 'Of all the big tech companies, Apple has arguably '\n",
      "                          'the best privacy policies. And with iOS 14, Apple '\n",
      "                          'is making yet another big privacy-focused upgrade '\n",
      "                          'to iOS. Once the new OS update hits this fall, us… '\n",
      "                          '[+1846 chars]',\n",
      "               'description': 'Of all the big tech companies, Apple has '\n",
      "                              'arguably the best privacy policies. And with '\n",
      "                              'iOS 14, Apple is making yet another big '\n",
      "                              'privacy-focused upgrade to iOS. Once the new OS '\n",
      "                              'update hits this fall, users can choose to hide '\n",
      "                              'their device’s “Identifier for Advert…',\n",
      "               'publishedAt': '2020-08-27T21:00:00Z',\n",
      "               'source': {'id': None, 'name': 'Lifehacker.com'},\n",
      "               'title': 'How to Piss Off Advertisers With Your iOS 14 Settings',\n",
      "               'url': 'https://lifehacker.com/how-to-piss-off-advertisers-with-your-ios-14-settings-1844870607',\n",
      "               'urlToImage': 'https://i.kinja-img.com/gawker-media/image/upload/c_fill,f_auto,fl_progressive,g_center,h_675,pg_1,q_80,w_1200/kumaj8kckqvxblqgzy5k.jpg'},\n",
      "              {'author': 'Ron Miller',\n",
      "               'content': 'Transposit is a company built by engineers to help '\n",
      "                          'engineers, and one big way to help them is to get '\n",
      "                          'systems up and running faster when things go wrong '\n",
      "                          '— as they always will at some point. Transposit… '\n",
      "                          '[+3594 chars]',\n",
      "               'description': 'Transposit is a company built by engineers to '\n",
      "                              'help engineers, and one big way to help them is '\n",
      "                              'to get systems up and running faster when '\n",
      "                              'things go wrong — as they always will at some '\n",
      "                              'point. Transposit has come up with a way to '\n",
      "                              'build runbooks for faster disaste…',\n",
      "               'publishedAt': '2020-09-02T14:15:42Z',\n",
      "               'source': {'id': 'techcrunch', 'name': 'TechCrunch'},\n",
      "               'title': 'Transposit scores $35M to build data-driven runbooks '\n",
      "                        'for faster disaster recovery',\n",
      "               'url': 'http://techcrunch.com/2020/09/02/transposit-scores-35m-to-build-data-driven-runbooks-for-faster-disaster-recovery/',\n",
      "               'urlToImage': 'https://techcrunch.com/wp-content/uploads/2020/09/Transposit_Founder.jpg?w=600'},\n",
      "              {'author': 'Natasha Lomas',\n",
      "               'content': 'The question of how policymakers should respond to '\n",
      "                          'the power of big tech didn’t get a great deal of '\n",
      "                          'airtime at TechCrunch Disrupt last week, despite a '\n",
      "                          'number of investigations now underway in the Uni… '\n",
      "                          '[+2832 chars]',\n",
      "               'description': 'The question of how policymakers should respond '\n",
      "                              'to the power of big tech didn’t get a great '\n",
      "                              'deal of airtime at TechCrunch Disrupt last '\n",
      "                              'week, despite a number of investigations now '\n",
      "                              'underway in the United States (hi, Google). '\n",
      "                              'It’s also clear that attention- and…',\n",
      "               'publishedAt': '2020-09-22T17:02:06Z',\n",
      "               'source': {'id': 'techcrunch', 'name': 'TechCrunch'},\n",
      "               'title': 'Big tech has 2 elephants in the room: Privacy and '\n",
      "                        'competition',\n",
      "               'url': 'http://techcrunch.com/2020/09/22/big-tech-has-2-elephants-in-the-room-privacy-and-competition/',\n",
      "               'urlToImage': 'https://techcrunch.com/wp-content/uploads/2020/09/GettyImages-1201880024.jpg?w=600'},\n",
      "              {'author': 'Chris Ip',\n",
      "               'content': 'Is the fact that internet firms have overtaken the '\n",
      "                          'Western media ecosystem actually bad for our '\n",
      "                          'society? Perhaps it is for the best, in that it '\n",
      "                          'breaks the more traditional centralization of '\n",
      "                          'content c… [+5688 chars]',\n",
      "               'description': 'Conspiracy theories fly across YouTube, '\n",
      "                              'Facebook plays host to extremist communities — '\n",
      "                              \"and all the while Big Tech's stock is soaring. \"\n",
      "                              'The pandemic and modern politics have made '\n",
      "                              'clear that something is wrong with our '\n",
      "                              'information ecosystem. In Terms of Disservi…',\n",
      "               'publishedAt': '2020-08-29T15:30:03Z',\n",
      "               'source': {'id': 'engadget', 'name': 'Engadget'},\n",
      "               'title': 'Hitting the Books: Big Tech turns your every move '\n",
      "                        'into profit',\n",
      "               'url': 'https://www.engadget.com/hitting-the-books-dipayan-ghosh-terms-of-disservice-153003394.html',\n",
      "               'urlToImage': 'https://o.aolcdn.com/images/dims?resize=1200%2C630&crop=1200%2C630%2C0%2C0&quality=95&image_uri=https%3A%2F%2Fs.yimg.com%2Fos%2Fcreatr-uploaded-images%2F2020-07%2Fc589c750-d202-11ea-bdbd-ceadc041cf07&client=amp-blogside-v2&signature=3260e2028faf65e8334900d426436db0ec98074a'},\n",
      "              {'author': 'Tom McKay',\n",
      "               'content': 'A Chinese intelligence firms database on 2.4 '\n",
      "                          'million peopleincluding some 50,000 Americanswas '\n",
      "                          'recently leaked, exposing it to researchers.\\r\\n'\n",
      "                          'Per a Tuesday report in the Register, Fullbright '\n",
      "                          'University… [+5406 chars]',\n",
      "               'description': 'A Chinese intelligence firm’s database on 2.4 '\n",
      "                              'million people—including some 50,000 '\n",
      "                              'Americans—was recently leaked, exposing it to '\n",
      "                              'researchers.Read more...',\n",
      "               'publishedAt': '2020-09-16T03:20:00Z',\n",
      "               'source': {'id': None, 'name': 'Gizmodo.com'},\n",
      "               'title': 'Data Leak Shows Chinese Firm Compiled Data, Social '\n",
      "                        'Media Posts of Millions',\n",
      "               'url': 'https://gizmodo.com/data-leak-shows-chinese-firm-compiled-data-social-medi-1845071986',\n",
      "               'urlToImage': 'https://i.kinja-img.com/gawker-media/image/upload/c_fill,f_auto,fl_progressive,g_center,h_675,pg_1,q_80,w_1200/ntjpakdqcq8t5ebjopwk.jpg'},\n",
      "              {'author': 'Adam Rogers',\n",
      "               'content': 'Mostly, the protocols are just thick volumes of '\n",
      "                          'proceduresthe instruction manuals for the trials. '\n",
      "                          'How big a dose of vaccine will participants in the '\n",
      "                          'experimental group get, and how many? How will the… '\n",
      "                          '[+4487 chars]',\n",
      "               'description': 'Scientists want public confidence. The White '\n",
      "                              'House wants an October Surprise. The FDA wants '\n",
      "                              'to avoid looking political. Big Pharma wants a '\n",
      "                              'win. You’re in the middle.',\n",
      "               'publishedAt': '2020-09-19T11:00:00Z',\n",
      "               'source': {'id': 'wired', 'name': 'Wired'},\n",
      "               'title': 'The 943-Dimensional Chess of a Trustworthy Covid-19 '\n",
      "                        'Vaccine',\n",
      "               'url': 'https://www.wired.com/story/the-943-dimensional-chess-of-a-trustworthy-covid-19-vaccine/',\n",
      "               'urlToImage': 'https://media.wired.com/photos/5f64e2413a7699cf957aa3fc/191:100/w_1280,c_limit/Science_vaccine_1256941145.jpg'},\n",
      "              {'author': 'Lucas Matney',\n",
      "               'content': 'It’s a big world out there, but the software that '\n",
      "                          'allows professionals to take a closer look at '\n",
      "                          'geospatial data hasn’t made the same leaps that '\n",
      "                          'consumer-focused platforms have.\\r\\n'\n",
      "                          'Matidor, a Vancouver-… [+1931 chars]',\n",
      "               'description': 'It’s a big world out there, but the software '\n",
      "                              'that allows professionals to take a closer look '\n",
      "                              'at geospatial data hasn’t made the same leaps '\n",
      "                              'that consumer-focused platforms have. Matidor, '\n",
      "                              'a Vancouver-based geospatial visualization and '\n",
      "                              'collaboration startup, is …',\n",
      "               'publishedAt': '2020-09-14T17:44:36Z',\n",
      "               'source': {'id': 'techcrunch', 'name': 'TechCrunch'},\n",
      "               'title': 'Matidor is building an all-in-one geospatial project '\n",
      "                        'collaboration platform',\n",
      "               'url': 'http://techcrunch.com/2020/09/14/matidor-is-building-an-all-in-one-geospatial-project-collaboration-platform/',\n",
      "               'urlToImage': 'https://techcrunch.com/wp-content/uploads/2020/09/task-summary.png?w=615'},\n",
      "              {'author': 'Ron Miller',\n",
      "               'content': 'Zendesk has been offering customers the ability to '\n",
      "                          'track customer service statistics for some time, '\n",
      "                          'but it has always been a look back. Today, the '\n",
      "                          'company announced a new product called Explorer '\n",
      "                          'Ente… [+2402 chars]',\n",
      "               'description': 'Zendesk has been offering customers the ability '\n",
      "                              'to track customer service statistics for some '\n",
      "                              'time, but it has always been a look back. '\n",
      "                              'Today, the company announced a new product '\n",
      "                              'called Explorer Enterprise that lets customers '\n",
      "                              'capture that valuable info in rea…',\n",
      "               'publishedAt': '2020-08-25T16:00:41Z',\n",
      "               'source': {'id': 'techcrunch', 'name': 'TechCrunch'},\n",
      "               'title': 'New Zendesk dashboard delivers customer service data '\n",
      "                        'in real time',\n",
      "               'url': 'http://techcrunch.com/2020/08/25/new-zendesk-dashboard-delivers-customer-service-data-in-real-time/',\n",
      "               'urlToImage': 'https://techcrunch.com/wp-content/uploads/2020/08/GettyImages-157283329.jpg?w=600'},\n",
      "              {'author': 'Ingrid Lunden',\n",
      "               'content': 'We’re seeing a gradual expansion of national '\n",
      "                          'regulations that require data from SaaS '\n",
      "                          'applications to be stored locally, in the country '\n",
      "                          'where it’s sourced and used. Today a startup that’s '\n",
      "                          'built a serv… [+5685 chars]',\n",
      "               'description': 'We’re seeing a gradual expansion of national '\n",
      "                              'regulations that require data from SaaS '\n",
      "                              'applications to be stored locally, in the '\n",
      "                              'country where it’s sourced and used. Today a '\n",
      "                              'startup that’s built a service around that need '\n",
      "                              '— specifically, data residency-as-a-ser…',\n",
      "               'publishedAt': '2020-09-01T13:59:44Z',\n",
      "               'source': {'id': 'techcrunch', 'name': 'TechCrunch'},\n",
      "               'title': 'InCountry raises $18M more to help SaaS companies '\n",
      "                        'store data locally',\n",
      "               'url': 'http://techcrunch.com/2020/09/01/incountry-raises-18m-more-to-help-saas-companies-store-data-locally/',\n",
      "               'urlToImage': 'https://techcrunch.com/wp-content/uploads/2020/06/GettyImages-1002163580.jpg?w=718'},\n",
      "              {'author': 'Emily Long',\n",
      "               'content': 'Have you ever come across a really large number or '\n",
      "                          'a measurement in an obscure unit and thought, I '\n",
      "                          'have no idea how big or how much that actually is? '\n",
      "                          'Wouldnt it be easier if you could compare to some… '\n",
      "                          '[+1409 chars]',\n",
      "               'description': 'Have you ever come across a really large number '\n",
      "                              'or a measurement in an obscure unit and '\n",
      "                              'thought, I have no idea how big or how much '\n",
      "                              'that actually is? Wouldn’t it be easier if you '\n",
      "                              'could compare to something you’re familiar '\n",
      "                              'with, like the length of a basketball…',\n",
      "               'publishedAt': '2020-09-10T20:30:00Z',\n",
      "               'source': {'id': None, 'name': 'Lifehacker.com'},\n",
      "               'title': 'Use This Tool to Visualize Large Numbers or Weird '\n",
      "                        'Units',\n",
      "               'url': 'https://lifehacker.com/use-this-tool-to-visualize-large-numbers-or-weird-units-1845014900',\n",
      "               'urlToImage': 'https://i.kinja-img.com/gawker-media/image/upload/c_fill,f_auto,fl_progressive,g_center,h_675,pg_1,q_80,w_1200/udhtsuvmht6qs4a5vh6t.jpg'},\n",
      "              {'author': 'Katie Thomas and Sheri Fink',\n",
      "               'content': 'For the first time ever, I feel like official '\n",
      "                          'people in communications and people at the F.D.A. '\n",
      "                          'grossly misrepresented data about a therapy, said '\n",
      "                          'Dr. Walid Gellad, who leads the Center for '\n",
      "                          'Pharmaceut… [+1747 chars]',\n",
      "               'description': 'Many experts — including a scientist who worked '\n",
      "                              'on the Mayo Clinic study — were bewildered '\n",
      "                              'about where a key statistic came from.',\n",
      "               'publishedAt': '2020-08-25T00:40:58Z',\n",
      "               'source': {'id': None, 'name': 'New York Times'},\n",
      "               'title': 'F.D.A. ‘Grossly Misrepresented’ Blood Plasma Data, '\n",
      "                        'Scientists Say',\n",
      "               'url': 'https://www.nytimes.com/2020/08/24/health/fda-blood-plasma.html',\n",
      "               'urlToImage': 'https://static01.nyt.com/images/2020/08/24/science/24VIRUS-PLASMA1/24VIRUS-PLASMA1-facebookJumbo.jpg'},\n",
      "              {'author': 'Rina Herzl',\n",
      "               'content': 'In the small town of Grosse Tête, Louisiana, a '\n",
      "                          'Bengal-Siberian hybrid tiger named Tony lived 17 '\n",
      "                          'wearisome years confined to a chain-linked, '\n",
      "                          'concrete-slabbed cage. His bloodline hailed from '\n",
      "                          'halfway ac… [+28467 chars]',\n",
      "               'description': 'In the small town of Grosse Tête, Louisiana, a '\n",
      "                              'Bengal-Siberian hybrid tiger named Tony lived '\n",
      "                              '17 wearisome years confined to a chain-linked, '\n",
      "                              'concrete-slabbed cage. His bloodline hailed '\n",
      "                              'from halfway across the planet, where tigers '\n",
      "                              'prowled as apex predators in t…',\n",
      "               'publishedAt': '2020-09-21T12:50:00Z',\n",
      "               'source': {'id': None, 'name': 'Gizmodo.com'},\n",
      "               'title': 'America’s Hidden Big Cat Problem',\n",
      "               'url': 'https://gizmodo.com/america-s-hidden-big-cat-problem-1845091479',\n",
      "               'urlToImage': 'https://i.kinja-img.com/gawker-media/image/upload/c_fill,f_auto,fl_progressive,g_center,h_675,pg_1,q_80,w_1200/vxjdxvg3i4qnrykapkmh.png'},\n",
      "              {'author': 'Anthony Ha',\n",
      "               'content': 'Apple strikes back at Epic Games, Android 11 is '\n",
      "                          'here and Microsoft announces a new stripped-down '\n",
      "                          'Xbox. This is your Daily Crunch for September 8, '\n",
      "                          '2020.\\r\\n'\n",
      "                          'The big story: Apple files countersuit against… '\n",
      "                          '[+3283 chars]',\n",
      "               'description': 'Apple strikes back at Epic Games, Android 11 is '\n",
      "                              'here and Microsoft announces a new '\n",
      "                              'stripped-down Xbox. This is your Daily Crunch '\n",
      "                              'for September 8, 2020. The big story: Apple '\n",
      "                              'files countersuit against Epic Apple has made '\n",
      "                              'the latest move in a legal battle agains…',\n",
      "               'publishedAt': '2020-09-08T22:12:26Z',\n",
      "               'source': {'id': 'techcrunch', 'name': 'TechCrunch'},\n",
      "               'title': 'Daily Crunch: Apple files countersuit against Epic',\n",
      "               'url': 'http://techcrunch.com/2020/09/08/daily-crunch-apple-files-countersuit-against-epic/',\n",
      "               'urlToImage': 'https://techcrunch.com/wp-content/uploads/2020/08/fortnite-epic-GettyImages-957063528.jpg?w=600'},\n",
      "              {'author': 'Pratip Biswas',\n",
      "               'content': 'Had Hergé been into businesses, this article would '\n",
      "                          'have been a point of interest to him. And he could '\n",
      "                          'have avoided the Big Data errors in his Tintin '\n",
      "                          'enterprise.\\xa0\\r\\n'\n",
      "                          'Are you willing to follow down the l… [+6535 chars]',\n",
      "               'description': 'Had Hergé been into businesses, this article '\n",
      "                              'would have been a point of interest to him. And '\n",
      "                              'he could have avoided the Big Data errors in '\n",
      "                              'his ‘Tintin’ enterprise.\\xa0 Are you willing to '\n",
      "                              'follow down the line too? Not yet intrigued? '\n",
      "                              '#Sigh# Thought so! Let’s get yo…',\n",
      "               'publishedAt': '2020-09-18T22:47:35Z',\n",
      "               'source': {'id': 'the-next-web', 'name': 'The Next Web'},\n",
      "               'title': '6 big data blunders businesses should avoid',\n",
      "               'url': 'https://thenextweb.com/neural/2020/09/18/6-big-data-blunders-businesses-should-avoid/',\n",
      "               'urlToImage': 'https://img-cdn.tnwcdn.com/image/neural?filter_last=1&fit=1280%2C640&url=https%3A%2F%2Fcdn0.tnwcdn.com%2Fwp-content%2Fblogs.dir%2F1%2Ffiles%2F2019%2F07%2Fdata.jpg&signature=f038e5be2a05cec898c1d71d2fbb2ab8'},\n",
      "              {'author': 'Reuters Staff',\n",
      "               'content': 'By Reuters Staff\\r\\n'\n",
      "                          'FILE PHOTO: People pass social distancing markers '\n",
      "                          'at Waterloo station, the busiest train station in '\n",
      "                          'the UK, during the morning rush hour, amid the '\n",
      "                          'coronavirus disease (COVID-19) out… [+1476 chars]',\n",
      "               'description': 'Britain is planning to train hundreds of data '\n",
      "                              'scientists as part of a new strategy to drive '\n",
      "                              'an economic recovery after the COVID-19 '\n",
      "                              'pandemic through smarter use of data and '\n",
      "                              'technology in policy-making.',\n",
      "               'publishedAt': '2020-09-08T23:15:00Z',\n",
      "               'source': {'id': 'reuters', 'name': 'Reuters'},\n",
      "               'title': 'Britain plans hiring spree to harness big data in '\n",
      "                        'pandemic recovery - Reuters UK',\n",
      "               'url': 'https://uk.reuters.com/article/uk-britain-politics-data-idUKKBN25Z3CD',\n",
      "               'urlToImage': 'https://static.reuters.com/resources/r/?m=02&d=20200908&t=2&i=1532658504&r=LYNXMPEG871US&w=800'},\n",
      "              {'author': 'Natasha Lomas',\n",
      "               'content': 'The UK government has published a national data '\n",
      "                          'strategy today, setting out a plan to promote the '\n",
      "                          'use and prioritize the reuse of data as a lever for '\n",
      "                          'economic growth and digital innovation. It has al… '\n",
      "                          '[+14920 chars]',\n",
      "               'description': 'The UK government has published a national data '\n",
      "                              'strategy today, setting out a plan to promote '\n",
      "                              'the use and prioritize the reuse of data as a '\n",
      "                              'lever for economic growth and digital '\n",
      "                              'innovation. It has also opened up a 12-week '\n",
      "                              'public consultation on the policy pla…',\n",
      "               'publishedAt': '2020-09-09T12:01:04Z',\n",
      "               'source': {'id': 'techcrunch', 'name': 'TechCrunch'},\n",
      "               'title': 'UK wants pandemic levels of data sharing to be the '\n",
      "                        'new normal',\n",
      "               'url': 'http://techcrunch.com/2020/09/09/uk-wants-pandemic-levels-of-data-sharing-to-be-the-new-normal/',\n",
      "               'urlToImage': 'https://techcrunch.com/wp-content/uploads/2020/07/GettyImages-1197243194.jpg?w=571'},\n",
      "              {'author': 'Alan Rappeport',\n",
      "               'content': 'Hes betrayed Midwestern farmers, just like hes '\n",
      "                          'betrayed Midwestern autoworkers, Mr. Brown said.\\r\\n'\n",
      "                          'And Senator Debbie Stabenow, a Michigan Democrat, '\n",
      "                          'suggested that Mr. Perdue, the former governor of '\n",
      "                          'Ge… [+1412 chars]',\n",
      "               'description': 'Big farms, along with Southern farmers, '\n",
      "                              'disproportionately benefited from the trade '\n",
      "                              'assistance program, according to the Government '\n",
      "                              'Accountability Office.',\n",
      "               'publishedAt': '2020-09-15T00:30:53Z',\n",
      "               'source': {'id': None, 'name': 'New York Times'},\n",
      "               'title': 'Independent Watchdog Report Finds Inequity in Farm '\n",
      "                        'Aid Payments',\n",
      "               'url': 'https://www.nytimes.com/2020/09/14/us/politics/trump-farm-aid-gao.html',\n",
      "               'urlToImage': 'https://static01.nyt.com/images/2020/09/14/business/14DC-TrumpFarm-01/merlin_171795051_6c40f4b6-1494-4717-801d-5f578b5c5127-facebookJumbo.jpg'},\n",
      "              {'author': 'Reuters Staff',\n",
      "               'content': 'By Reuters Staff\\r\\n'\n",
      "                          'ZURICH, Sept 3 (Reuters) - Roche said on Thursday '\n",
      "                          'new data showed its big-selling multiple sclerosis '\n",
      "                          'treatment Ocrevus was a highly effective treatment '\n",
      "                          'option offering a favourable … [+330 chars]',\n",
      "               'description': 'Roche said on Thursday new data showed its '\n",
      "                              'big-selling multiple sclerosis treatment '\n",
      "                              'Ocrevus was a \"highly effective treatment '\n",
      "                              'option offering a favourable and consistent '\n",
      "                              'benefit risk profile\".',\n",
      "               'publishedAt': '2020-09-03T05:18:00Z',\n",
      "               'source': {'id': 'reuters', 'name': 'Reuters'},\n",
      "               'title': 'Roche presents new data on efficacy of MS treatment '\n",
      "                        'Ocrevus - Reuters India',\n",
      "               'url': 'https://in.reuters.com/article/roche-ocrevus-idINASN000BOS',\n",
      "               'urlToImage': 'https://s1.reutersmedia.net/resources_v2/images/rcom-default.png?w=800'},\n",
      "              {'author': 'Reuters Editorial',\n",
      "               'content': 'ZURICH (Reuters) - Roche said on Thursday new data '\n",
      "                          'showed its big-selling multiple sclerosis treatment '\n",
      "                          'Ocrevus was a “highly effective treatment option '\n",
      "                          'offering a favourable and consistent benefit ri… '\n",
      "                          '[+308 chars]',\n",
      "               'description': 'Roche said on Thursday new data showed its '\n",
      "                              'big-selling multiple sclerosis treatment '\n",
      "                              'Ocrevus was a \"highly effective treatment '\n",
      "                              'option offering a favourable and consistent '\n",
      "                              'benefit risk profile\".',\n",
      "               'publishedAt': '2020-09-03T05:24:00Z',\n",
      "               'source': {'id': 'reuters', 'name': 'Reuters'},\n",
      "               'title': 'Roche presents new data on efficacy of MS treatment '\n",
      "                        'Ocrevus - Reuters',\n",
      "               'url': 'https://www.reuters.com/article/us-roche-ocrevus-idUSKBN25U0J8',\n",
      "               'urlToImage': 'https://s2.reutersmedia.net/resources/r/?m=02&d=20200903&t=2&i=1532024086&w=1200&r=LYNXMPEG820AI'},\n",
      "              {'author': 'Sara Merken',\n",
      "               'content': 'Three big U.S. law firms this week have hired or '\n",
      "                          'promoted new lawyers to head their Brussels-based '\n",
      "                          'privacy and cybersecurity practices in Europe. \\r\\n'\n",
      "                          'Washington, D.C.-based Steptoe &amp; Johnson '\n",
      "                          'brough… [+497 chars]',\n",
      "               'description': 'Three big U.S. law firms this week have hired '\n",
      "                              'or promoted new lawyers to head their '\n",
      "                              'Brussels-based privacy and cybersecurity '\n",
      "                              'practices in Europe.',\n",
      "               'publishedAt': '2020-09-02T21:30:00Z',\n",
      "               'source': {'id': 'reuters', 'name': 'Reuters'},\n",
      "               'title': 'U.S. firms shuffle ranks, boost European data privacy '\n",
      "                        'practices in Brussels - Reuters',\n",
      "               'url': 'https://www.reuters.com/article/us-firms-shuffle-ranks-boost-european-da-idUSL1N2FZ2BG',\n",
      "               'urlToImage': 'https://s4.reutersmedia.net/resources_v2/images/rcom-default.png'}],\n",
      " 'status': 'ok',\n",
      " 'totalResults': 25261}\n"
     ]
    }
   ],
   "source": [
    "data01 = getNewsApiData()\n",
    "pprint.pprint(data01)"
   ]
  },
  {
   "cell_type": "markdown",
   "metadata": {},
   "source": [
    "# END python consumes API"
   ]
  },
  {
   "cell_type": "markdown",
   "metadata": {},
   "source": [
    "## INIT TF IDF"
   ]
  },
  {
   "cell_type": "code",
   "execution_count": 46,
   "metadata": {},
   "outputs": [],
   "source": [
    "from sklearn.feature_extraction.text import TfidfVectorizer"
   ]
  },
  {
   "cell_type": "code",
   "execution_count": 144,
   "metadata": {
    "scrolled": true
   },
   "outputs": [],
   "source": [
    "fakeList = \"Donald Trump Sends Out Embarrassing New Year’s Eve Message; This is Disturbing\"\n",
    "tfidf = TfidfVectorizer()"
   ]
  },
  {
   "cell_type": "code",
   "execution_count": 149,
   "metadata": {
    "scrolled": true
   },
   "outputs": [],
   "source": [
    "def isTrue(news, show=False):\n",
    "    response = tfidf.fit_transform([fakeList, news])\n",
    "    feature_names = tfidf.get_feature_names()\n",
    "#     print(\"len = \",len(response.nonzero()[1])-1)\n",
    "    x = len(fakeList.split())-1\n",
    "    if (show==True):\n",
    "        for col in response.nonzero()[1]:\n",
    "            print (feature_names[col], ' - ', response[0, col])\n",
    "    tot = 0\n",
    "    cnt = 0\n",
    "    fake_sum = 0\n",
    "    news_sum = 0\n",
    "    for col in response.nonzero()[1]:\n",
    "        if (cnt>x):\n",
    "            news_sum += response[0, col]\n",
    "        else:\n",
    "            fake_sum += response[0, col]\n",
    "        tot += response[0, col]\n",
    "        cnt += 1\n",
    "#     print(\"3 = \",news_sum)\n",
    "#     print(\"2 = \",fake_sum)\n",
    "#     print(\"1 = \",tot-fake_sum)\n",
    "    print(\"FakeWords% = \",news_sum * 100/fake_sum)\n",
    "    if (news_sum * 100/fake_sum < 70): #less than 70% of the fake words inside the news?\n",
    "        return True\n",
    "    else:\n",
    "        return False\n",
    "# isTrue(docB, False)"
   ]
  },
  {
   "cell_type": "code",
   "execution_count": 150,
   "metadata": {
    "scrolled": true
   },
   "outputs": [
    {
     "name": "stdout",
     "output_type": "stream",
     "text": [
      "FakeWords% =  6.075291258616697\n"
     ]
    },
    {
     "data": {
      "text/plain": [
       "True"
      ]
     },
     "execution_count": 150,
     "metadata": {},
     "output_type": "execute_result"
    }
   ],
   "source": [
    "docB = \"The truck is driven on the highway\"\n",
    "isTrue(docB)"
   ]
  },
  {
   "cell_type": "code",
   "execution_count": 151,
   "metadata": {},
   "outputs": [
    {
     "name": "stdout",
     "output_type": "stream",
     "text": [
      "FakeWords% =  88.6705972258182\n"
     ]
    },
    {
     "data": {
      "text/plain": [
       "False"
      ]
     },
     "execution_count": 151,
     "metadata": {},
     "output_type": "execute_result"
    }
   ],
   "source": [
    "docB = \"Embarrassing New Year1’s Eve Message; This is Disturbing Donald Trump Sends Out epa ue ma eeee e dsfsdf sfsd ewafa adsf adsfafa asdf asf afwerwer wer werwefsdfsd fsdf wewe rwerwe rwer sdfg fg fgs gfs dfg\"\n",
    "isTrue(docB)"
   ]
  },
  {
   "cell_type": "code",
   "execution_count": 152,
   "metadata": {
    "scrolled": true
   },
   "outputs": [
    {
     "name": "stdout",
     "output_type": "stream",
     "text": [
      "FakeWords% =  88.6705972258182\n"
     ]
    },
    {
     "data": {
      "text/plain": [
       "False"
      ]
     },
     "execution_count": 152,
     "metadata": {},
     "output_type": "execute_result"
    }
   ],
   "source": [
    "docB = \"Embarrassing New Year1’s Eve Message; this is sdfsd sdfsdf Disturbing Donald Trump Sends Out\"\n",
    "isTrue(docB)"
   ]
  },
  {
   "cell_type": "code",
   "execution_count": 153,
   "metadata": {},
   "outputs": [
    {
     "name": "stdout",
     "output_type": "stream",
     "text": [
      "FakeWords% =  49.902598893631406\n"
     ]
    },
    {
     "data": {
      "text/plain": [
       "True"
      ]
     },
     "execution_count": 153,
     "metadata": {},
     "output_type": "execute_result"
    }
   ],
   "source": [
    "docB = \"Donald Trump Sends Out this is sdfsd sdfsdf Disturbing \"\n",
    "isTrue(docB)"
   ]
  },
  {
   "cell_type": "markdown",
   "metadata": {},
   "source": [
    "## END TF IDF"
   ]
  }
 ],
 "metadata": {
  "kernelspec": {
   "display_name": "Python 3",
   "language": "python",
   "name": "python3"
  },
  "language_info": {
   "codemirror_mode": {
    "name": "ipython",
    "version": 3
   },
   "file_extension": ".py",
   "mimetype": "text/x-python",
   "name": "python",
   "nbconvert_exporter": "python",
   "pygments_lexer": "ipython3",
   "version": "3.6.9"
  }
 },
 "nbformat": 4,
 "nbformat_minor": 4
}
