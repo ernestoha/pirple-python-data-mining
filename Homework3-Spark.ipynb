{
 "cells": [
  {
   "cell_type": "markdown",
   "metadata": {},
   "source": [
    "# Framework *Apache Spark*"
   ]
  },
  {
   "cell_type": "code",
   "execution_count": 4,
   "metadata": {},
   "outputs": [],
   "source": [
    "#testing Spark installation\n",
    "import pyspark as ps\n",
    "\n",
    "spark = ps.sql.SparkSession.builder \\\n",
    "    .master('local[4]') \\\n",
    "    .appName('spark-lecture') \\\n",
    "    .getOrCreate()\n",
    "\n",
    "sc = spark.sparkContext"
   ]
  },
  {
   "cell_type": "code",
   "execution_count": 5,
   "metadata": {},
   "outputs": [
    {
     "name": "stdout",
     "output_type": "stream",
     "text": [
      "heads = 488\n",
      "tails = 512\n",
      "ratio = 0.488\n"
     ]
    }
   ],
   "source": [
    "import random\n",
    "n = 1000\n",
    "\n",
    "heads = (sc.parallelize(range(n))\n",
    "    .map(lambda _: random.random())\n",
    "    .filter(lambda r: r <= 0.5)\n",
    "    .count())\n",
    "\n",
    "tails = n - heads\n",
    "ratio = 1. * heads / n\n",
    "\n",
    "print('heads =', heads)\n",
    "print('tails =', tails)\n",
    "print('ratio =', ratio)"
   ]
  },
  {
   "cell_type": "markdown",
   "metadata": {},
   "source": [
    "## Dice Simulation"
   ]
  },
  {
   "cell_type": "markdown",
   "metadata": {},
   "source": [
    "### Libs anf Func"
   ]
  },
  {
   "cell_type": "code",
   "execution_count": 6,
   "metadata": {},
   "outputs": [],
   "source": [
    "### Libs anf Func\n",
    "import numpy as np\n",
    "import matplotlib.pyplot as plt\n",
    "\n",
    "# n = how many dice\n",
    "def dice(n):\n",
    "    total = 0\n",
    "    for i in range(n):\n",
    "        total += random.randint(1, 6) #6 sides of a dice\n",
    "    return total"
   ]
  },
  {
   "cell_type": "markdown",
   "metadata": {},
   "source": [
    "### Vars"
   ]
  },
  {
   "cell_type": "code",
   "execution_count": 7,
   "metadata": {},
   "outputs": [],
   "source": [
    "DiceNb = 2\n",
    "Rolls = 100\n",
    "DicePos = 6*DiceNb+1"
   ]
  },
  {
   "cell_type": "code",
   "execution_count": 8,
   "metadata": {},
   "outputs": [
    {
     "name": "stdout",
     "output_type": "stream",
     "text": [
      "[ 0  1  7  3 16 16 18  7 10 14  6  1]\n"
     ]
    },
    {
     "data": {
      "image/png": "[encoded data removed]",
      "text/plain": [
       "<Figure size 432x288 with 1 Axes>"
      ]
     },
     "metadata": {
      "needs_background": "light"
     },
     "output_type": "display_data"
    }
   ],
   "source": [
    "num = np.zeros(6*DiceNb, dtype=int)\n",
    "# print(num)\n",
    "for _ in range(1, Rolls):\n",
    "    roll = dice(DiceNb) - 1\n",
    "    num[roll] += 1\n",
    "print(num)\n",
    "# plt.plot(num)\n",
    "x = np.array(range(1,DicePos))\n",
    "plt.plot(x, num)\n",
    "plt.title(\"Simulation of \" + str(DiceNb) + \" dice. \" + str(Rolls) + \" rolls.\")\n",
    "plt.show()"
   ]
  },
  {
   "cell_type": "markdown",
   "metadata": {},
   "source": [
    "## Mergin Spark and Dice."
   ]
  },
  {
   "cell_type": "code",
   "execution_count": 9,
   "metadata": {},
   "outputs": [],
   "source": [
    "# rdd = sc.parallelize(range(Rolls))\n",
    "rdd = sc.parallelize(range(1,Rolls))"
   ]
  },
  {
   "cell_type": "code",
   "execution_count": 10,
   "metadata": {},
   "outputs": [
    {
     "data": {
      "text/plain": [
       "pyspark.rdd.PipelinedRDD"
      ]
     },
     "execution_count": 10,
     "metadata": {},
     "output_type": "execute_result"
    }
   ],
   "source": [
    "type(rdd)"
   ]
  },
  {
   "cell_type": "code",
   "execution_count": 11,
   "metadata": {},
   "outputs": [],
   "source": [
    "rdd2 = rdd.map(lambda x: random.random())"
   ]
  },
  {
   "cell_type": "code",
   "execution_count": 12,
   "metadata": {},
   "outputs": [
    {
     "data": {
      "text/plain": [
       "99"
      ]
     },
     "execution_count": 12,
     "metadata": {},
     "output_type": "execute_result"
    }
   ],
   "source": [
    "# rdd2.collect() # len(rdd2.collect())\n",
    "# len(rdd2.collect())\n",
    "rdd2.count()"
   ]
  },
  {
   "cell_type": "code",
   "execution_count": 13,
   "metadata": {},
   "outputs": [],
   "source": [
    "sp_dice = sc.parallelize(range(0, Rolls)) \\\n",
    "            .map(lambda _: dice(DiceNb))"
   ]
  },
  {
   "cell_type": "code",
   "execution_count": 14,
   "metadata": {},
   "outputs": [
    {
     "data": {
      "text/plain": [
       "100"
      ]
     },
     "execution_count": 14,
     "metadata": {},
     "output_type": "execute_result"
    }
   ],
   "source": [
    "# sp_dice.collect() \n",
    "sp_dice.count()"
   ]
  },
  {
   "cell_type": "code",
   "execution_count": 15,
   "metadata": {},
   "outputs": [
    {
     "data": {
      "text/plain": [
       "4"
      ]
     },
     "execution_count": 15,
     "metadata": {},
     "output_type": "execute_result"
    }
   ],
   "source": [
    "#sp_dice2=sp_dice.filter(lambda r: r == 2)\n",
    "#sp_dice2.count(), sp_dice2.collect()\n",
    "sp_dice.filter(lambda r: r == 2).count()"
   ]
  },
  {
   "cell_type": "code",
   "execution_count": 16,
   "metadata": {},
   "outputs": [],
   "source": [
    "sp_diceData = np.zeros(6*DiceNb, dtype=int)\n",
    "for pos in range(1, DicePos):\n",
    "    sp_diceData[pos-1] += sp_dice.filter(lambda r: r == pos).count()"
   ]
  },
  {
   "cell_type": "code",
   "execution_count": 17,
   "metadata": {},
   "outputs": [
    {
     "data": {
      "image/png": "[encoded data removed]",
      "text/plain": [
       "<Figure size 432x288 with 1 Axes>"
      ]
     },
     "metadata": {
      "needs_background": "light"
     },
     "output_type": "display_data"
    }
   ],
   "source": [
    "plt.plot(x, sp_diceData)\n",
    "plt.title(\"Simulation of \" + str(DiceNb) + \" dice. \" + str(Rolls) + \" rolls. Calculated with Spark.\")\n",
    "plt.show()"
   ]
  },
  {
   "cell_type": "code",
   "execution_count": null,
   "metadata": {},
   "outputs": [],
   "source": []
  }
 ],
 "metadata": {
  "kernelspec": {
   "display_name": "Python 3",
   "language": "python",
   "name": "python3"
  },
  "language_info": {
   "codemirror_mode": {
    "name": "ipython",
    "version": 3
   },
   "file_extension": ".py",
   "mimetype": "text/x-python",
   "name": "python",
   "nbconvert_exporter": "python",
   "pygments_lexer": "ipython3",
   "version": "3.6.9"
  }
 },
 "nbformat": 4,
 "nbformat_minor": 4
}
